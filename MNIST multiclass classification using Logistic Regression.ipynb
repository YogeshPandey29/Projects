{
  "nbformat": 4,
  "nbformat_minor": 0,
  "metadata": {
    "colab": {
      "name": "Untitled4.ipynb",
      "provenance": [],
      "collapsed_sections": [],
      "authorship_tag": "ABX9TyOHK4scAQrlLP7fMX3nxazA",
      "include_colab_link": true
    },
    "kernelspec": {
      "name": "python3",
      "display_name": "Python 3"
    }
  },
  "cells": [
    {
      "cell_type": "markdown",
      "metadata": {
        "id": "view-in-github",
        "colab_type": "text"
      },
      "source": [
        "<a href=\"https://colab.research.google.com/github/YogeshPandey29/Projects/blob/master/MNIST%20multiclass%20classification%20using%20Logistic%20Regression.ipynb\" target=\"_parent\"><img src=\"https://colab.research.google.com/assets/colab-badge.svg\" alt=\"Open In Colab\"/></a>"
      ]
    },
    {
      "cell_type": "markdown",
      "metadata": {
        "id": "2TezQ-PElDpG",
        "colab_type": "text"
      },
      "source": [
        "In this implementation, I have tried to implement Logisitic Regression upon MNIST dataset containing images of handwritten digits. This is a classification problem wherein I have to classify each of the training examples into one of the classes from 0 to 9 (both inclusive).\n",
        "To get through this, I have used scikit learn library of python to be able to use a Logistic Classifier."
      ]
    },
    {
      "cell_type": "code",
      "metadata": {
        "id": "RhJvqnXsk-8T",
        "colab_type": "code",
        "colab": {}
      },
      "source": [
        "import numpy as np\n",
        "import pandas as pd\n",
        "import seaborn as sns\n",
        "import matplotlib.pyplot as plt\n",
        "%matplotlib inline"
      ],
      "execution_count": 47,
      "outputs": []
    },
    {
      "cell_type": "code",
      "metadata": {
        "id": "VFDijYs7k4fw",
        "colab_type": "code",
        "colab": {}
      },
      "source": [
        "from sklearn.datasets import load_digits       #importing the MNIST dataset for handwritten digits\n",
        "digits = load_digits()"
      ],
      "execution_count": 48,
      "outputs": []
    },
    {
      "cell_type": "code",
      "metadata": {
        "id": "4yCJ5bvCY1YK",
        "colab_type": "code",
        "colab": {
          "base_uri": "https://localhost:8080/",
          "height": 34
        },
        "outputId": "6df76dd5-1c1c-4895-814c-2fa5cb77be81"
      },
      "source": [
        "print(digits.data.shape)              #shape (dimensions) of the Image data\n",
        "                                      #contains 1797 training examples of images of handwritten digits, each of which\n",
        "                                      #8*8 pixels (hence the shape is 1797 * 64)"
      ],
      "execution_count": 49,
      "outputs": [
        {
          "output_type": "stream",
          "text": [
            "(1797, 64)\n"
          ],
          "name": "stdout"
        }
      ]
    },
    {
      "cell_type": "code",
      "metadata": {
        "id": "BtZLifTPZNcE",
        "colab_type": "code",
        "colab": {
          "base_uri": "https://localhost:8080/",
          "height": 34
        },
        "outputId": "32adf4ca-ac2e-41a0-b053-bcf2fb133108"
      },
      "source": [
        "print(digits.target.shape)            #shape (dimensions) of the Label data\n",
        "                                      #contains 1797 labels of the images of handwritten digits\n",
        "                                      #(hence the shape is 1797 * 1)"
      ],
      "execution_count": 50,
      "outputs": [
        {
          "output_type": "stream",
          "text": [
            "(1797,)\n"
          ],
          "name": "stdout"
        }
      ]
    },
    {
      "cell_type": "code",
      "metadata": {
        "id": "MTDQBdDzZdNr",
        "colab_type": "code",
        "colab": {
          "base_uri": "https://localhost:8080/",
          "height": 283
        },
        "outputId": "773d0f55-44df-42ba-cecc-ccfcfc771dd1"
      },
      "source": [
        "plt.figure(figsize = (20, 4))\n",
        "for index, (image, label) in enumerate(zip(digits.data[0:5], digits.target[0:5])):\n",
        "  plt.subplot(1, 5, index + 1)\n",
        "  plt.imshow(np.reshape(image, (8,8)), cmap=plt.cm.gray)\n",
        "  plt.title('Training: %i\\n' % label, fontsize = 20)"
      ],
      "execution_count": 15,
      "outputs": [
        {
          "output_type": "display_data",
          "data": {
            "image/png": "[encoded data removed]",
            "text/plain": [
              "<Figure size 1440x288 with 5 Axes>"
            ]
          },
          "metadata": {
            "tags": [],
            "needs_background": "light"
          }
        }
      ]
    },
    {
      "cell_type": "code",
      "metadata": {
        "id": "uZg_SB8AdFPi",
        "colab_type": "code",
        "colab": {
          "base_uri": "https://localhost:8080/",
          "height": 136
        },
        "outputId": "26f8f0a9-2573-4e12-98d1-21301055f59c"
      },
      "source": [
        "from sklearn.model_selection import train_test_split\n",
        "X_train, X_test, y_train, y_test = train_test_split(digits.data, digits.target, test_size = 0.25, random_state = 0)\n",
        "print(X_train, y_train)"
      ],
      "execution_count": 23,
      "outputs": [
        {
          "output_type": "stream",
          "text": [
            "[[ 0.  3. 13. ... 12.  9.  1.]\n",
            " [ 0.  0.  1. ... 13.  1.  0.]\n",
            " [ 0.  0.  4. ...  9.  0.  0.]\n",
            " ...\n",
            " [ 0.  0.  5. ...  0.  0.  0.]\n",
            " [ 0.  0.  4. ...  0.  0.  0.]\n",
            " [ 0.  0.  6. ... 11.  0.  0.]] [2 8 9 ... 7 7 8]\n"
          ],
          "name": "stdout"
        }
      ]
    },
    {
      "cell_type": "code",
      "metadata": {
        "id": "o4EyttYFd_hE",
        "colab_type": "code",
        "colab": {
          "base_uri": "https://localhost:8080/",
          "height": 340
        },
        "outputId": "969da8c0-30b4-44d3-ae17-01fb65ace0b9"
      },
      "source": [
        "print(X_test, y_test)"
      ],
      "execution_count": 24,
      "outputs": [
        {
          "output_type": "stream",
          "text": [
            "[[ 0.  0. 11. ... 13. 16.  8.]\n",
            " [ 0.  1. 15. ...  1.  0.  0.]\n",
            " [ 0.  2. 13. ... 16. 16.  3.]\n",
            " ...\n",
            " [ 0.  0. 11. ...  7.  0.  0.]\n",
            " [ 0.  0.  5. ...  7.  0.  0.]\n",
            " [ 0.  2. 14. ...  6.  0.  0.]] [2 8 2 6 6 7 1 9 8 5 2 8 6 6 6 6 1 0 5 8 8 7 8 4 7 5 4 9 2 9 4 7 6 8 9 4 3\n",
            " 1 0 1 8 6 7 7 1 0 7 6 2 1 9 6 7 9 0 0 5 1 6 3 0 2 3 4 1 9 2 6 9 1 8 3 5 1\n",
            " 2 8 2 2 9 7 2 3 6 0 5 3 7 5 1 2 9 9 3 1 7 7 4 8 5 8 5 5 2 5 9 0 7 1 4 7 3\n",
            " 4 8 9 7 9 8 2 6 5 2 5 8 4 8 7 0 6 1 5 9 9 9 5 9 9 5 7 5 6 2 8 6 9 6 1 5 1\n",
            " 5 9 9 1 5 3 6 1 8 9 8 7 6 7 6 5 6 0 8 8 9 8 6 1 0 4 1 6 3 8 6 7 4 5 6 3 0\n",
            " 3 3 3 0 7 7 5 7 8 0 7 8 9 6 4 5 0 1 4 6 4 3 3 0 9 5 9 2 1 4 2 1 6 8 9 2 4\n",
            " 9 3 7 6 2 3 3 1 6 9 3 6 3 2 2 0 7 6 1 1 9 7 2 7 8 5 5 7 5 2 3 7 2 7 5 5 7\n",
            " 0 9 1 6 5 9 7 4 3 8 0 3 6 4 6 3 2 6 8 8 8 4 6 7 5 2 4 5 3 2 4 6 9 4 5 4 3\n",
            " 4 6 2 9 0 1 7 2 0 9 6 0 4 2 0 7 9 8 5 4 8 2 8 4 3 7 2 6 9 1 5 1 0 8 2 1 9\n",
            " 5 6 8 2 7 2 1 5 1 6 4 5 0 9 4 1 1 7 0 8 9 0 5 4 3 8 8 6 5 3 4 4 4 8 8 7 0\n",
            " 9 6 3 5 2 3 0 8 3 3 1 3 3 0 0 4 6 0 7 7 6 2 0 4 4 2 3 7 8 9 8 6 8 5 6 2 2\n",
            " 3 1 7 7 8 0 3 3 2 1 5 5 9 1 3 7 0 0 7 0 4 5 9 3 3 4 3 1 8 9 8 3 6 2 1 6 2\n",
            " 1 7 5 5 1 9]\n"
          ],
          "name": "stdout"
        }
      ]
    },
    {
      "cell_type": "code",
      "metadata": {
        "id": "g9uDPc8ieDDs",
        "colab_type": "code",
        "colab": {
          "base_uri": "https://localhost:8080/",
          "height": 102
        },
        "outputId": "6c404b55-5782-4c10-a150-7d1136c40393"
      },
      "source": [
        "from sklearn.linear_model import LogisticRegression\n",
        "classifier = LogisticRegression(max_iter = 5000)\n",
        "classifier.fit(X_train, y_train)"
      ],
      "execution_count": 31,
      "outputs": [
        {
          "output_type": "execute_result",
          "data": {
            "text/plain": [
              "LogisticRegression(C=1.0, class_weight=None, dual=False, fit_intercept=True,\n",
              "                   intercept_scaling=1, l1_ratio=None, max_iter=5000,\n",
              "                   multi_class='auto', n_jobs=None, penalty='l2',\n",
              "                   random_state=None, solver='lbfgs', tol=0.0001, verbose=0,\n",
              "                   warm_start=False)"
            ]
          },
          "metadata": {
            "tags": []
          },
          "execution_count": 31
        }
      ]
    },
    {
      "cell_type": "code",
      "metadata": {
        "id": "1oV3bKs6eXI7",
        "colab_type": "code",
        "colab": {
          "base_uri": "https://localhost:8080/",
          "height": 1000
        },
        "outputId": "7abf63d3-cac5-4708-87e2-8689c660bdec"
      },
      "source": [
        "print(classifier.coef_)"
      ],
      "execution_count": 32,
      "outputs": [
        {
          "output_type": "stream",
          "text": [
            "[[ 0.00000000e+00 -2.57476308e-03 -2.18025779e-02  5.81065278e-02\n",
            "   6.86816527e-02 -1.23909716e-01 -1.27995604e-01 -1.67760486e-02\n",
            "  -5.21293681e-05 -1.57584133e-02 -4.13150389e-02  1.82816292e-01\n",
            "   5.24901143e-02  5.01813412e-02 -3.01865021e-02 -1.30463205e-02\n",
            "  -4.74742719e-07  6.17335429e-02  9.01616888e-02 -2.74842612e-02\n",
            "  -3.31662017e-01  1.71054196e-01  6.67576987e-02 -2.55906905e-03\n",
            "  -6.69928348e-09  8.84734891e-02  1.13573690e-01 -1.17574962e-01\n",
            "  -4.35775254e-01 -8.18217394e-03  1.07762827e-01 -2.98004699e-05\n",
            "   0.00000000e+00  1.15418887e-01  7.84975800e-02 -1.23771177e-01\n",
            "  -3.39432064e-01  4.61927369e-02  6.83473511e-02  0.00000000e+00\n",
            "  -1.94559969e-05 -5.17946368e-02  2.27967801e-01 -7.52935219e-02\n",
            "  -1.51414322e-01  1.27057072e-01  2.15954703e-02 -8.10505822e-06\n",
            "  -7.76074552e-05 -6.96837159e-02  8.95872496e-02 -1.65131611e-02\n",
            "   1.75033641e-01  5.69348650e-02 -3.19448998e-02 -8.82544764e-03\n",
            "  -1.16401396e-08 -8.67587622e-03 -7.18933973e-02  1.53998270e-01\n",
            "  -3.78618273e-02 -3.24740038e-02 -9.36050650e-02 -4.65520668e-02]\n",
            " [ 0.00000000e+00 -1.21602087e-02 -1.65449642e-02  1.70758215e-02\n",
            "  -7.13490596e-01  4.20482907e-01  2.04011676e-01 -3.21494539e-03\n",
            "  -4.42348528e-05 -2.01828110e-01 -4.14108976e-01 -2.63158171e-01\n",
            "   2.34478232e-01 -1.55963518e-01 -3.04655472e-01 -5.50852336e-03\n",
            "  -2.21718576e-05  1.69037008e-01  6.89929922e-02  5.80890788e-01\n",
            "   4.02504295e-01 -1.23052624e-01  2.25981365e-02 -5.54405621e-04\n",
            "  -2.12561082e-02 -1.16130047e-01 -1.16126214e-02  6.98138546e-02\n",
            "   2.47857469e-01  1.63285490e-01 -8.59905845e-02 -2.57862310e-08\n",
            "   0.00000000e+00  1.35731478e-01  1.23830974e-01 -9.69146198e-02\n",
            "   1.33421666e-01  6.65486255e-03 -1.55559022e-01  0.00000000e+00\n",
            "  -2.19004021e-07 -2.73125780e-01  9.65208002e-03  3.31605160e-01\n",
            "   7.70332301e-02 -1.95870231e-01 -2.24873040e-01 -2.97027986e-02\n",
            "  -7.71529610e-05 -7.76050584e-02 -2.88802064e-02  1.11382790e-01\n",
            "   2.20360799e-01  5.15960173e-02 -6.89235359e-02  5.07695077e-02\n",
            "  -2.56951770e-05 -1.36839788e-02 -1.68096367e-01  8.11888734e-02\n",
            "   1.77611564e-01  1.18728454e-01  1.99117654e-01  2.04213027e-01]\n",
            " [ 0.00000000e+00  3.73942716e-02  7.80078649e-02  1.70838507e-02\n",
            "  -5.66946812e-02 -1.69611378e-02  2.94497375e-02 -1.53860685e-03\n",
            "  -1.42953795e-02  1.02699223e-01  6.30373726e-02 -1.44970728e-01\n",
            "   2.06165386e-01 -4.79848151e-02  1.02011649e-01 -8.47284096e-04\n",
            "  -7.10900430e-03 -4.96309950e-02 -8.36937604e-02 -2.47930534e-01\n",
            "   1.57571474e-01  4.83226273e-02  1.64413375e-01 -5.90760299e-07\n",
            "  -5.73919457e-09 -1.29678681e-01 -3.38538083e-01 -3.53285685e-01\n",
            "  -1.17391313e-01 -2.59741956e-02  3.24085632e-02 -1.12003635e-08\n",
            "   0.00000000e+00 -1.07591919e-01 -2.37250697e-01 -9.51502479e-02\n",
            "   9.58733682e-03 -1.96300509e-01 -1.98172434e-01  0.00000000e+00\n",
            "  -7.27701818e-08  8.09365432e-02  5.85462817e-02  3.58616544e-01\n",
            "  -2.17539054e-01 -3.69525616e-01 -1.44894245e-01  1.30388440e-02\n",
            "   4.92848571e-04  1.61310094e-01  6.26349789e-02  3.43632792e-01\n",
            "   2.23907732e-01  2.88052050e-01  9.59400642e-02  1.31097045e-01\n",
            "   1.64301614e-04  7.51646735e-02  9.70250724e-02  5.02363725e-03\n",
            "   4.57543097e-02  2.13301940e-01  2.75921511e-01  1.53685752e-01]\n",
            " [ 0.00000000e+00  1.07574827e-01 -1.29735198e-01  1.48774362e-01\n",
            "   4.34747131e-01  1.02826249e-01 -8.64399103e-02 -1.14731607e-02\n",
            "  -1.36992005e-02  1.23790525e-01  5.14322562e-02  6.86457104e-02\n",
            "   1.02532438e-01  2.41803553e-01  1.01063044e-01 -3.07148153e-03\n",
            "  -1.06614011e-03  1.25474223e-02 -3.24196994e-01 -3.96827017e-01\n",
            "   8.38775134e-02 -2.79704560e-01  1.09978210e-01 -4.76302122e-03\n",
            "  -5.59972701e-09 -1.26452974e-01 -4.26284344e-01 -1.59528332e-02\n",
            "   2.25638789e-01 -3.40478693e-01 -2.49083172e-01 -1.12129988e-08\n",
            "   0.00000000e+00 -1.64003806e-02 -7.83690774e-02  6.51628142e-02\n",
            "   8.81167675e-02 -7.13186066e-02  1.31774417e-02  0.00000000e+00\n",
            "  -7.27353813e-08 -5.14449524e-02 -3.40436680e-01 -4.67090984e-01\n",
            "   6.14437564e-02  4.05467697e-01  2.17116962e-01 -9.81322227e-03\n",
            "  -7.72647429e-08 -1.30346831e-01 -5.14679685e-02 -1.03834513e-01\n",
            "   2.24592449e-02  1.12591544e-01  3.88590028e-01 -1.17723424e-01\n",
            "  -7.09357333e-09  7.33554250e-02  3.37040492e-01  8.90560218e-02\n",
            "   2.30687283e-02 -3.48542171e-02 -2.43964416e-02 -1.79842949e-01]\n",
            " [ 0.00000000e+00 -2.77655096e-02 -1.68505189e-01 -4.09655860e-01\n",
            "  -2.13686274e-01 -2.89065895e-01 -2.36500058e-01  5.39599793e-02\n",
            "  -8.08893779e-07  8.80888438e-03 -1.41999595e-01 -2.59283812e-01\n",
            "  -3.46335386e-01 -2.84766119e-01 -9.12879665e-02  8.29828759e-02\n",
            "  -2.88561176e-07  1.60851316e-01  2.47641836e-02  7.29955371e-02\n",
            "   1.96098440e-02  4.68285996e-02 -8.33884408e-02  7.34250422e-02\n",
            "   2.13047700e-02  2.14984791e-02  2.45149898e-01  2.62000036e-02\n",
            "   5.77708100e-02  7.08728387e-02  3.47744170e-01  1.11651965e-03\n",
            "   0.00000000e+00  1.32865998e-01  7.64851546e-02 -1.75799988e-01\n",
            "   1.34928106e-01  1.52152445e-01  4.01557717e-01  0.00000000e+00\n",
            "   2.23675893e-05  4.00615547e-01 -2.55535928e-03  5.40134511e-01\n",
            "   3.22082374e-01  1.51714602e-02  1.03469092e-01 -8.01154242e-04\n",
            "   8.06732860e-05  1.52052964e-01 -1.15887181e-01  2.66558982e-02\n",
            "   1.44112302e-01 -2.51585501e-01 -2.35374945e-01 -1.10614692e-03\n",
            "  -1.93996728e-06 -1.21511911e-02 -1.58219684e-02 -2.23743692e-01\n",
            "  -1.81905685e-01 -1.97460613e-01 -9.24840867e-02 -8.06457490e-04]\n",
            " [ 0.00000000e+00  7.55265048e-02  4.16456989e-01 -1.17007631e-01\n",
            "   8.44857169e-02  2.36291248e-01  3.56453079e-01 -5.24613621e-02\n",
            "  -5.60180453e-06 -1.01645348e-02  2.45346443e-01  1.64034229e-01\n",
            "   2.68157907e-02 -8.87095556e-02 -7.58129428e-02 -1.67783630e-02\n",
            "  -5.00979085e-05 -5.39059181e-03  1.49241654e-01 -5.30720898e-02\n",
            "  -4.05403551e-01 -5.07868444e-01 -4.06354972e-01 -2.55866548e-03\n",
            "  -4.59589248e-05  1.65691960e-01  2.55206959e-01 -1.85574478e-01\n",
            "   2.17491053e-01  9.91093028e-03 -2.50430260e-01 -1.72525229e-08\n",
            "   0.00000000e+00 -7.62329354e-02  1.13805234e-01 -1.66468536e-01\n",
            "  -3.63799825e-02 -5.22693504e-02 -4.09874777e-04  0.00000000e+00\n",
            "  -7.29132558e-08 -1.74895281e-01 -1.54054999e-01 -2.30226367e-01\n",
            "  -1.16198876e-01  1.50465536e-01 -4.50406694e-02 -2.02614872e-05\n",
            "  -7.41480292e-08  4.07308653e-03 -4.59782784e-02 -9.78456761e-02\n",
            "  -4.70365437e-02 -4.35226140e-02 -3.72214054e-02 -1.10788084e-02\n",
            "  -5.91361513e-09  4.80943513e-02  3.38199914e-01  2.40477470e-01\n",
            "  -4.85771392e-02  1.03418246e-01 -3.00114288e-02 -6.00340136e-02]\n",
            " [ 0.00000000e+00 -5.54950661e-03 -1.43660034e-01  5.69536961e-03\n",
            "  -1.07311138e-01 -1.52684498e-01 -6.38435115e-02 -3.17585822e-05\n",
            "  -4.24849437e-04 -1.17026145e-01 -1.88342787e-01  6.53843586e-02\n",
            "  -3.16678733e-01  6.11315815e-02  4.65291968e-02 -1.69346684e-04\n",
            "  -2.11393033e-04 -7.13665822e-02  1.55933674e-01  3.82867375e-02\n",
            "  -2.21668257e-01 -3.42141896e-01 -5.77257134e-02 -2.51455034e-04\n",
            "  -8.42725125e-07  1.45114518e-01  1.25100060e-02  1.65486968e-01\n",
            "  -1.72347415e-01 -1.31885716e-01 -1.16414438e-01 -1.17945740e-06\n",
            "   0.00000000e+00  1.08141595e-01  2.07031750e-01  1.92326456e-01\n",
            "  -4.20147696e-02  2.59160690e-02  1.35302923e-01  0.00000000e+00\n",
            "  -2.24926622e-06 -1.12879547e-01  4.30438427e-01  7.94688498e-02\n",
            "   1.82401639e-01  1.46393979e-01  1.32090385e-01  3.32608343e-02\n",
            "  -8.50116146e-06 -1.09060706e-01  1.63866727e-01  1.03838955e-01\n",
            "  -9.61463600e-02  2.33181787e-01  2.88719016e-02 -4.82862522e-02\n",
            "  -5.79431158e-09 -1.09066009e-02 -1.88709773e-01 -1.22328845e-01\n",
            "   4.79282470e-02  8.12409742e-02 -4.01051675e-02 -4.09992329e-02]\n",
            " [ 0.00000000e+00  5.65964367e-02  1.44663134e-02  6.20495102e-02\n",
            "   1.03082192e-01  5.21449367e-04  1.34648596e-01  8.23783523e-02\n",
            "  -4.18323677e-08  7.56790720e-02  1.32851434e-01  9.40254601e-02\n",
            "   3.73292580e-01 -1.14822100e-01 -3.98739940e-02  3.89335158e-02\n",
            "  -1.70656348e-08 -3.02043587e-01 -2.12321671e-01 -1.91809130e-01\n",
            "   8.05025458e-02  2.45984276e-01  1.10200487e-01  8.87500724e-03\n",
            "  -2.80310463e-07 -9.65113620e-02 -5.04341718e-02 -2.71086644e-01\n",
            "  -6.34732773e-02  9.31788337e-02  1.44044148e-01 -3.59542587e-06\n",
            "   0.00000000e+00  6.67051436e-02 -1.85892436e-02 -8.10706092e-02\n",
            "   1.37489437e-01  2.13793261e-01  1.42790856e-01  0.00000000e+00\n",
            "  -7.32663089e-08  4.28352472e-02  5.03036329e-02  8.86050801e-02\n",
            "   1.11733512e-01 -1.04521895e-01 -3.42080447e-02 -6.06823946e-06\n",
            "  -2.79213595e-06 -5.18898796e-02 -5.05804926e-02  6.03077858e-02\n",
            "  -2.48715759e-01 -3.86107015e-01 -1.40999515e-01 -2.50072821e-04\n",
            "  -9.08729322e-07 -1.75273854e-04 -9.37505204e-02 -2.02733475e-01\n",
            "  -2.91566610e-01 -2.48614656e-01 -7.98590686e-02 -3.14608649e-03]\n",
            " [ 0.00000000e+00 -1.04439517e-01  6.04541224e-02 -7.91186597e-02\n",
            "   1.22148171e-01 -1.23778976e-01 -2.28238196e-01 -7.05435676e-03\n",
            "   2.85257007e-02 -6.09252882e-02  1.37292446e-01  4.39799980e-02\n",
            "  -2.28558067e-01  1.93221835e-01  1.24330079e-01 -7.59029424e-03\n",
            "   8.45964804e-03 -1.55169596e-02  5.45305068e-02  3.37845936e-02\n",
            "  -2.20587037e-02  2.20312201e-01 -1.32068727e-02 -8.14592736e-03\n",
            "  -1.55573499e-06  5.16573979e-02 -3.57520081e-02  2.99224277e-01\n",
            "  -1.60276715e-01 -5.78343626e-02  1.78955499e-01 -3.58597702e-05\n",
            "   0.00000000e+00 -7.37287906e-02 -9.67569076e-02  2.18861301e-01\n",
            "   5.13948690e-02 -1.90932047e-01 -4.05050716e-01  0.00000000e+00\n",
            "  -7.88876489e-08  6.60037986e-02  1.58810907e-01  1.64431004e-01\n",
            "   1.29907147e-01  7.72694811e-03  1.74457024e-01 -5.94976793e-03\n",
            "  -4.07241082e-04  1.09513352e-01  1.00714360e-01 -2.66995631e-01\n",
            "  -1.82801546e-01  1.86602088e-01  2.78771561e-02 -3.55545410e-02\n",
            "  -1.35720771e-04 -4.51573596e-02 -2.49617904e-01 -8.63398919e-02\n",
            "   1.84958802e-01 -3.38920027e-02 -2.59569638e-02 -6.08398583e-02]\n",
            " [ 0.00000000e+00 -1.24602535e-01 -8.91373273e-02  2.96996709e-01\n",
            "   2.78037825e-01 -5.37216306e-02  1.84541907e-02 -4.37880925e-02\n",
            "  -3.45450362e-06  9.47247863e-02  1.55806444e-01  4.85266627e-02\n",
            "  -1.04202355e-01  1.45907797e-01  1.67882909e-01 -7.49047783e-02\n",
            "  -6.04612887e-08  3.97794259e-02  7.65877250e-02  1.91165377e-01\n",
            "   2.36726856e-01  5.20265624e-01  8.67280927e-02 -6.34669149e-02\n",
            "  -6.06819672e-09 -3.66277954e-03  2.36180675e-01  3.82749498e-01\n",
            "   2.00505853e-01  2.27107049e-01 -1.08996752e-01 -1.04601907e-03\n",
            "   0.00000000e+00 -2.84909076e-01 -1.68684768e-01  2.62824607e-01\n",
            "  -1.37111366e-01  6.61111383e-02 -1.98424074e-03  0.00000000e+00\n",
            "  -7.27494457e-08  7.37490610e-02 -4.38672091e-01 -7.90250277e-01\n",
            "  -3.99449406e-01 -1.82364950e-01 -1.99712935e-01  1.69955623e-06\n",
            "  -7.56480875e-08  1.16366945e-02 -1.24009188e-01 -1.60629240e-01\n",
            "  -2.11173510e-01 -2.47743221e-01 -2.68148493e-02  4.09581404e-02\n",
            "  -6.52819597e-09 -1.05864170e-01  1.56244507e-02  6.54016316e-02\n",
            "   8.05896105e-02  3.06058781e-02 -8.86209432e-02  3.43218847e-02]]\n"
          ],
          "name": "stdout"
        }
      ]
    },
    {
      "cell_type": "code",
      "metadata": {
        "id": "0oNnt7pgfawY",
        "colab_type": "code",
        "colab": {
          "base_uri": "https://localhost:8080/",
          "height": 51
        },
        "outputId": "0182aaab-8add-4a58-ee69-1872758f547e"
      },
      "source": [
        "print(classifier.intercept_)"
      ],
      "execution_count": 33,
      "outputs": [
        {
          "output_type": "stream",
          "text": [
            "[ 0.32515073 -8.15815092  2.62897628 -2.57755619 12.5476067  -1.25980616\n",
            " -1.72589734  7.03024471  0.75034785 -9.56091567]\n"
          ],
          "name": "stdout"
        }
      ]
    },
    {
      "cell_type": "code",
      "metadata": {
        "id": "8ZSaRcMzhNqh",
        "colab_type": "code",
        "colab": {}
      },
      "source": [
        "y_predicted = classifier.predict(X_test)"
      ],
      "execution_count": 39,
      "outputs": []
    },
    {
      "cell_type": "code",
      "metadata": {
        "id": "Dinb0mLyffy0",
        "colab_type": "code",
        "colab": {
          "base_uri": "https://localhost:8080/",
          "height": 34
        },
        "outputId": "a6e28aa5-7b4c-4d9b-d844-88721c39c962"
      },
      "source": [
        "classifier.predict(X_test[0].reshape(1, -1))              #predicting the first label in the test set"
      ],
      "execution_count": 40,
      "outputs": [
        {
          "output_type": "execute_result",
          "data": {
            "text/plain": [
              "array([2])"
            ]
          },
          "metadata": {
            "tags": []
          },
          "execution_count": 40
        }
      ]
    },
    {
      "cell_type": "code",
      "metadata": {
        "id": "fEuwCwGzfyt8",
        "colab_type": "code",
        "colab": {
          "base_uri": "https://localhost:8080/",
          "height": 34
        },
        "outputId": "715a8092-4f88-430e-97e1-c5b7c649b34b"
      },
      "source": [
        "classifier.predict(X_test[5].reshape(1, -1))              #predicting the fifth label in the test set"
      ],
      "execution_count": 41,
      "outputs": [
        {
          "output_type": "execute_result",
          "data": {
            "text/plain": [
              "array([7])"
            ]
          },
          "metadata": {
            "tags": []
          },
          "execution_count": 41
        }
      ]
    },
    {
      "cell_type": "code",
      "metadata": {
        "id": "xncuFKFEgAkV",
        "colab_type": "code",
        "colab": {
          "base_uri": "https://localhost:8080/",
          "height": 34
        },
        "outputId": "0cdbb55f-f4b8-4bcd-ac89-b2b91fde6836"
      },
      "source": [
        "classifier.predict(X_test[4:16])                          #predicting the labels indexed 4 to 16 that are \n",
        "                                                          #present in the test set (i.e. predicting more than one labels at a time)"
      ],
      "execution_count": 42,
      "outputs": [
        {
          "output_type": "execute_result",
          "data": {
            "text/plain": [
              "array([6, 7, 1, 9, 8, 5, 2, 8, 6, 6, 6, 6])"
            ]
          },
          "metadata": {
            "tags": []
          },
          "execution_count": 42
        }
      ]
    },
    {
      "cell_type": "code",
      "metadata": {
        "id": "xRi-9P4-gIt8",
        "colab_type": "code",
        "colab": {
          "base_uri": "https://localhost:8080/",
          "height": 34
        },
        "outputId": "b28aaf23-2376-4d54-c498-2236a991e354"
      },
      "source": [
        "from sklearn.metrics import mean_squared_error\n",
        "rmse = np.sqrt(mean_squared_error(y_test, y_predicted))\n",
        "print(rmse)                                                #look at how low the RMSE value for the model is!"
      ],
      "execution_count": 44,
      "outputs": [
        {
          "output_type": "stream",
          "text": [
            "1.0392304845413265\n"
          ],
          "name": "stdout"
        }
      ]
    },
    {
      "cell_type": "code",
      "metadata": {
        "id": "IQWUDL6Rhcz0",
        "colab_type": "code",
        "colab": {
          "base_uri": "https://localhost:8080/",
          "height": 34
        },
        "outputId": "7bd838d9-8523-4a82-c2eb-6bb30c141705"
      },
      "source": [
        "from sklearn.metrics import accuracy_score\n",
        "model_accuracy = accuracy_score(y_test, y_predicted)\n",
        "print(model_accuracy)                                      #the model has an accuracy of about 95.3%"
      ],
      "execution_count": 45,
      "outputs": [
        {
          "output_type": "stream",
          "text": [
            "0.9533333333333334\n"
          ],
          "name": "stdout"
        }
      ]
    },
    {
      "cell_type": "code",
      "metadata": {
        "id": "2dhbQHm5h7wY",
        "colab_type": "code",
        "colab": {
          "base_uri": "https://localhost:8080/",
          "height": 187
        },
        "outputId": "80dbd2d4-a02c-4cbf-ecdf-d64632608148"
      },
      "source": [
        "from sklearn.metrics import confusion_matrix\n",
        "cnf_mtrx = confusion_matrix(y_test, y_predicted)\n",
        "print(cnf_mtrx)"
      ],
      "execution_count": 46,
      "outputs": [
        {
          "output_type": "stream",
          "text": [
            "[[37  0  0  0  0  0  0  0  0  0]\n",
            " [ 0 40  0  0  0  0  0  0  2  1]\n",
            " [ 0  0 41  3  0  0  0  0  0  0]\n",
            " [ 0  0  0 44  0  0  0  0  1  0]\n",
            " [ 0  0  0  0 37  0  0  1  0  0]\n",
            " [ 0  0  0  0  0 46  0  0  0  2]\n",
            " [ 0  1  0  0  0  0 51  0  0  0]\n",
            " [ 0  0  0  1  1  0  0 46  0  0]\n",
            " [ 0  3  1  0  0  0  1  0 43  0]\n",
            " [ 0  0  0  0  0  1  0  0  2 44]]\n"
          ],
          "name": "stdout"
        }
      ]
    },
    {
      "cell_type": "code",
      "metadata": {
        "id": "CXWuqF8aiUyH",
        "colab_type": "code",
        "colab": {}
      },
      "source": [
        ""
      ],
      "execution_count": null,
      "outputs": []
    }
  ]
}